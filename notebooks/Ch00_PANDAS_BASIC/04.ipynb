{
 "cells": [
  {
   "cell_type": "code",
   "execution_count": 1,
   "id": "c4f46174-3568-4a7d-aad8-4fcd90a0c8f5",
   "metadata": {},
   "outputs": [
    {
     "name": "stdout",
     "output_type": "stream",
     "text": [
      "<class 'pandas.core.frame.DataFrame'>\n",
      "RangeIndex: 7 entries, 0 to 6\n",
      "Data columns (total 3 columns):\n",
      " #   Column  Non-Null Count  Dtype  \n",
      "---  ------  --------------  -----  \n",
      " 0   메뉴      7 non-null      object \n",
      " 1   가격      7 non-null      float64\n",
      " 2   칼로리     7 non-null      object \n",
      "dtypes: float64(1), object(2)\n",
      "memory usage: 300.0+ bytes\n"
     ]
    }
   ],
   "source": [
    "import pandas as pd\n",
    "\n",
    "data = {\n",
    "    \"메뉴\": ['아메리카노', '카페라떼', '카페모카', '카푸치노', '에스프레소', '밀크티', '녹차'],\n",
    "    \"가격\": [4500.0, 5000.0, 5500.0, 5000.0, 4000.0, 5900.0, 5300.0],   # float\n",
    "    \"칼로리\": ['10', '110', '250', '110', '20', '210', '0']             # 문자열\n",
    "}\n",
    "df = pd.DataFrame(data)\n",
    "df.info()"
   ]
  },
  {
   "cell_type": "code",
   "execution_count": 2,
   "id": "df0fbb9f-74cc-47c1-bc8d-936aa7e7fe8a",
   "metadata": {},
   "outputs": [
    {
     "name": "stdout",
     "output_type": "stream",
     "text": [
      "<class 'pandas.core.frame.DataFrame'>\n",
      "RangeIndex: 7 entries, 0 to 6\n",
      "Data columns (total 3 columns):\n",
      " #   Column  Non-Null Count  Dtype \n",
      "---  ------  --------------  ----- \n",
      " 0   메뉴      7 non-null      object\n",
      " 1   가격      7 non-null      int64 \n",
      " 2   칼로리     7 non-null      object\n",
      "dtypes: int64(1), object(2)\n",
      "memory usage: 300.0+ bytes\n"
     ]
    }
   ],
   "source": [
    "df['가격'] = df['가격'].astype('int')\n",
    "df.info()"
   ]
  },
  {
   "cell_type": "code",
   "execution_count": 4,
   "id": "4e74a37d-41b6-4cc5-a913-eee58dddbbbc",
   "metadata": {},
   "outputs": [
    {
     "name": "stdout",
     "output_type": "stream",
     "text": [
      "<class 'pandas.core.frame.DataFrame'>\n",
      "RangeIndex: 7 entries, 0 to 6\n",
      "Data columns (total 3 columns):\n",
      " #   Column  Non-Null Count  Dtype  \n",
      "---  ------  --------------  -----  \n",
      " 0   메뉴      7 non-null      object \n",
      " 1   가격      7 non-null      int64  \n",
      " 2   칼로리     7 non-null      float64\n",
      "dtypes: float64(1), int64(1), object(1)\n",
      "memory usage: 300.0+ bytes\n"
     ]
    }
   ],
   "source": [
    "df['칼로리'] = df['칼로리'].astype('float')\n",
    "df.info()"
   ]
  },
  {
   "cell_type": "code",
   "execution_count": 5,
   "id": "638071da-b28d-4d5d-be81-eea10ef76c8d",
   "metadata": {},
   "outputs": [],
   "source": [
    "import pandas as pd\n",
    "\n",
    "data = {\n",
    "    \"메뉴\": ['아메리카노', '카페라떼', '카페모카'],\n",
    "    \"가격\": [4500.0, 5000.0, 5500.0],\n",
    "    \"칼로리\": ['10', '110', '250']\n",
    "}\n",
    "df = pd.DataFrame(data)"
   ]
  },
  {
   "cell_type": "code",
   "execution_count": 10,
   "id": "040236b3-3ee5-4e5e-873b-4dae2651d078",
   "metadata": {},
   "outputs": [
    {
     "name": "stdout",
     "output_type": "stream",
     "text": [
      "<class 'pandas.core.frame.DataFrame'>\n",
      "RangeIndex: 3 entries, 0 to 2\n",
      "Data columns (total 3 columns):\n",
      " #   Column  Non-Null Count  Dtype  \n",
      "---  ------  --------------  -----  \n",
      " 0   메뉴      3 non-null      object \n",
      " 1   가격      3 non-null      int64  \n",
      " 2   칼로리     3 non-null      float64\n",
      "dtypes: float64(1), int64(1), object(1)\n",
      "memory usage: 204.0+ bytes\n"
     ]
    }
   ],
   "source": [
    "df[\"가격\"]=df[\"가격\"].astype(\"int64\")\n",
    "df[\"칼로리\"]=df[\"칼로리\"].astype(\"float64\")\n",
    "df.info()"
   ]
  },
  {
   "cell_type": "code",
   "execution_count": 11,
   "id": "19b50fe0-ffa4-49f7-9b6d-5c73ce51b945",
   "metadata": {},
   "outputs": [],
   "source": [
    "df_date = pd.DataFrame({\n",
    "    \"날짜\": [\"2025-01-01\", \"2025-02-01\", \"2025-03-01\"],\n",
    "    \"매출\": [1000, 1500, 2000]\n",
    "})"
   ]
  },
  {
   "cell_type": "code",
   "execution_count": 16,
   "id": "12503337-e3c9-4656-82ae-5460a895afa5",
   "metadata": {},
   "outputs": [
    {
     "name": "stdout",
     "output_type": "stream",
     "text": [
      "<class 'pandas.core.frame.DataFrame'>\n",
      "RangeIndex: 3 entries, 0 to 2\n",
      "Data columns (total 2 columns):\n",
      " #   Column  Non-Null Count  Dtype         \n",
      "---  ------  --------------  -----         \n",
      " 0   날짜      3 non-null      datetime64[ns]\n",
      " 1   매출      3 non-null      int64         \n",
      "dtypes: datetime64[ns](1), int64(1)\n",
      "memory usage: 180.0 bytes\n"
     ]
    }
   ],
   "source": [
    "df_date[\"날짜\"]=pd.to_datetime(df_date[\"날짜\"])\n",
    "df_date.info()"
   ]
  },
  {
   "cell_type": "code",
   "execution_count": 17,
   "id": "a26b4633-1ece-4ff5-9471-3c9b2f680b7f",
   "metadata": {},
   "outputs": [],
   "source": [
    "df_cat = pd.DataFrame({\n",
    "    \"이름\": [\"철수\",\"영희\",\"민수\",\"지현\"],\n",
    "    \"성별\": [\"M\",\"F\",\"M\",\"F\"]\n",
    "})"
   ]
  },
  {
   "cell_type": "code",
   "execution_count": 19,
   "id": "b06dec45-5e20-48e8-bbca-fd491d9b8ccd",
   "metadata": {},
   "outputs": [
    {
     "name": "stdout",
     "output_type": "stream",
     "text": [
      "<class 'pandas.core.frame.DataFrame'>\n",
      "RangeIndex: 4 entries, 0 to 3\n",
      "Data columns (total 2 columns):\n",
      " #   Column  Non-Null Count  Dtype   \n",
      "---  ------  --------------  -----   \n",
      " 0   이름      4 non-null      object  \n",
      " 1   성별      4 non-null      category\n",
      "dtypes: category(1), object(1)\n",
      "memory usage: 292.0+ bytes\n"
     ]
    }
   ],
   "source": [
    "df_cat[\"성별\"]=df_cat[\"성별\"].astype(\"category\")\n",
    "df_cat.info()"
   ]
  },
  {
   "cell_type": "code",
   "execution_count": 20,
   "id": "2db562fa-70f1-4c81-96bd-f950070cc532",
   "metadata": {},
   "outputs": [],
   "source": [
    "df_score = pd.DataFrame({\n",
    "    \"이름\": [\"하늘\",\"도윤\",\"서연\"],\n",
    "    \"점수\": [80, 95, 100]\n",
    "})"
   ]
  },
  {
   "cell_type": "code",
   "execution_count": 21,
   "id": "0ea7d61d-cef1-43f3-bffc-0b00ba8f036b",
   "metadata": {},
   "outputs": [
    {
     "name": "stdout",
     "output_type": "stream",
     "text": [
      "<class 'pandas.core.frame.DataFrame'>\n",
      "RangeIndex: 3 entries, 0 to 2\n",
      "Data columns (total 2 columns):\n",
      " #   Column  Non-Null Count  Dtype  \n",
      "---  ------  --------------  -----  \n",
      " 0   이름      3 non-null      object \n",
      " 1   점수      3 non-null      float64\n",
      "dtypes: float64(1), object(1)\n",
      "memory usage: 180.0+ bytes\n"
     ]
    }
   ],
   "source": [
    "df_score[\"점수\"]=df_score[\"점수\"].astype(\"float64\")\n",
    "df_score.info()"
   ]
  },
  {
   "cell_type": "code",
   "execution_count": null,
   "id": "da7c6f78-a784-4d2e-877e-886281c9f109",
   "metadata": {},
   "outputs": [],
   "source": []
  }
 ],
 "metadata": {
  "kernelspec": {
   "display_name": "Python 3 (ipykernel)",
   "language": "python",
   "name": "python3"
  },
  "language_info": {
   "codemirror_mode": {
    "name": "ipython",
    "version": 3
   },
   "file_extension": ".py",
   "mimetype": "text/x-python",
   "name": "python",
   "nbconvert_exporter": "python",
   "pygments_lexer": "ipython3",
   "version": "3.11.6"
  }
 },
 "nbformat": 4,
 "nbformat_minor": 5
}
